{
  "nbformat": 4,
  "nbformat_minor": 0,
  "metadata": {
    "colab": {
      "provenance": []
    },
    "kernelspec": {
      "name": "python3",
      "display_name": "Python 3"
    },
    "language_info": {
      "name": "python"
    }
  },
  "cells": [
    {
      "cell_type": "code",
      "source": [
        "!pip install qiskit qiskit-aer --upgrade --quiet"
      ],
      "metadata": {
        "id": "_KGScR5p_wjF",
        "colab": {
          "base_uri": "https://localhost:8080/"
        },
        "outputId": "199d2e22-298f-4abf-efeb-212accb2be1f"
      },
      "execution_count": 1,
      "outputs": [
        {
          "output_type": "stream",
          "name": "stdout",
          "text": [
            "\u001b[2K   \u001b[90m━━━━━━━━━━━━━━━━━━━━━━━━━━━━━━━━━━━━━━━━\u001b[0m \u001b[32m8.0/8.0 MB\u001b[0m \u001b[31m49.7 MB/s\u001b[0m eta \u001b[36m0:00:00\u001b[0m\n",
            "\u001b[2K   \u001b[90m━━━━━━━━━━━━━━━━━━━━━━━━━━━━━━━━━━━━━━━━\u001b[0m \u001b[32m12.4/12.4 MB\u001b[0m \u001b[31m71.0 MB/s\u001b[0m eta \u001b[36m0:00:00\u001b[0m\n",
            "\u001b[2K   \u001b[90m━━━━━━━━━━━━━━━━━━━━━━━━━━━━━━━━━━━━━━━━\u001b[0m \u001b[32m2.2/2.2 MB\u001b[0m \u001b[31m66.4 MB/s\u001b[0m eta \u001b[36m0:00:00\u001b[0m\n",
            "\u001b[2K   \u001b[90m━━━━━━━━━━━━━━━━━━━━━━━━━━━━━━━━━━━━━━━━\u001b[0m \u001b[32m49.5/49.5 kB\u001b[0m \u001b[31m3.6 MB/s\u001b[0m eta \u001b[36m0:00:00\u001b[0m\n",
            "\u001b[?25h"
          ]
        }
      ]
    },
    {
      "cell_type": "code",
      "source": [
        "from qiskit import QuantumCircuit, transpile\n",
        "from qiskit_aer import AerSimulator\n",
        "from math import pi\n",
        "\n",
        "# Initialize simulator\n",
        "sim = AerSimulator()"
      ],
      "metadata": {
        "id": "OOUsMSV1_ytE"
      },
      "execution_count": 2,
      "outputs": []
    },
    {
      "cell_type": "code",
      "source": [
        "# ====================================================\n",
        "# 🧠 Task 1: Change Gate Order (Swap X and H)\n",
        "# ====================================================\n",
        "print(\"\\n--- Task 1: Swapping X and H Gates ---\")\n",
        "\n",
        "qc1 = QuantumCircuit(1, 1)\n",
        "qc1.h(0)        # Hadamard first (creates superposition)\n",
        "qc1.x(0)        # Pauli-X after (flips state)\n",
        "qc1.s(0)\n",
        "qc1.t(0)\n",
        "qc1.rz(0.5, 0)\n",
        "qc1.measure_all()\n",
        "\n",
        "# Run simulation\n",
        "compiled1 = transpile(qc1, sim)\n",
        "result1 = sim.run(compiled1, shots=1024).result()\n",
        "counts1 = result1.get_counts()\n",
        "\n",
        "print(\"Measurement Counts (H→X):\", counts1)\n",
        "print(qc1.draw())\n",
        "\n",
        "print(\"\\nExplanation:\")\n",
        "print(\"Swapping X and H changes how the qubit rotates on the Bloch sphere.\")\n",
        "print(\"H creates superposition, while X flips the qubit. The order affects interference patterns and outcomes.\")\n",
        "\n",
        "\n",
        "# ====================================================\n",
        "# 🧠 Task 2: Vary Rotation Angle (RZ)\n",
        "# ====================================================\n",
        "print(\"\\n--- Task 2: Varying Rotation Angle ---\")\n",
        "\n",
        "angles = [pi/4, pi/2, pi]  # rotation angles\n",
        "\n",
        "for angle in angles:\n",
        "    qc2 = QuantumCircuit(1, 1)\n",
        "    qc2.x(0)\n",
        "    qc2.h(0)\n",
        "    qc2.s(0)\n",
        "    qc2.t(0)\n",
        "    qc2.rz(angle, 0)   # RZ rotation with different angles\n",
        "    qc2.measure_all()\n",
        "\n",
        "    compiled2 = transpile(qc2, sim)\n",
        "    result2 = sim.run(compiled2, shots=1024).result()\n",
        "    counts2 = result2.get_counts()\n",
        "\n",
        "    print(f\"\\nRZ Rotation θ = {angle:.2f} radians\")\n",
        "    print(\"Measurement Counts:\", counts2)\n",
        "    print(qc2.draw())\n",
        "\n",
        "print(\"\\nExplanation:\")\n",
        "print(\"As θ increases (π/4 → π/2 → π), the qubit’s phase changes more.\")\n",
        "print(\"This alters interference, shifting probabilities of measuring |0⟩ or |1⟩.\")\n",
        "\n",
        "\n",
        "# ====================================================\n",
        "# 🧠 Task 3: Remove the Hadamard Gate\n",
        "# ====================================================\n",
        "print(\"\\n--- Task 3: Removing the Hadamard Gate ---\")\n",
        "\n",
        "qc3 = QuantumCircuit(1, 1)\n",
        "qc3.x(0)\n",
        "# qc3.h(0)  # Removed Hadamard gate\n",
        "qc3.s(0)\n",
        "qc3.t(0)\n",
        "qc3.rz(0.5, 0)\n",
        "qc3.measure_all()\n",
        "\n",
        "compiled3 = transpile(qc3, sim)\n",
        "result3 = sim.run(compiled3, shots=1024).result()\n",
        "counts3 = result3.get_counts()\n",
        "\n",
        "print(\"Measurement Counts (Without H):\", counts3)\n",
        "print(qc3.draw())\n",
        "\n",
        "print(\"\\nExplanation:\")\n",
        "print(\"Without the Hadamard gate, the qubit is no longer in superposition.\")\n",
        "print(\"So, measurement outcomes become more deterministic (closer to pure |0⟩ or |1⟩).\")"
      ],
      "metadata": {
        "id": "XXSzfpG9q7hc",
        "colab": {
          "base_uri": "https://localhost:8080/"
        },
        "outputId": "ff218ecd-472b-4744-906b-788381b47938"
      },
      "execution_count": 3,
      "outputs": [
        {
          "output_type": "stream",
          "name": "stdout",
          "text": [
            "\n",
            "--- Task 1: Swapping X and H Gates ---\n",
            "Measurement Counts (H→X): {'1 0': 541, '0 0': 483}\n",
            "        ┌───┐┌───┐┌───┐┌───┐┌─────────┐ ░ ┌─┐\n",
            "     q: ┤ H ├┤ X ├┤ S ├┤ T ├┤ Rz(0.5) ├─░─┤M├\n",
            "        └───┘└───┘└───┘└───┘└─────────┘ ░ └╥┘\n",
            "   c: 1/═══════════════════════════════════╬═\n",
            "                                           ║ \n",
            "meas: 1/═══════════════════════════════════╩═\n",
            "                                           0 \n",
            "\n",
            "Explanation:\n",
            "Swapping X and H changes how the qubit rotates on the Bloch sphere.\n",
            "H creates superposition, while X flips the qubit. The order affects interference patterns and outcomes.\n",
            "\n",
            "--- Task 2: Varying Rotation Angle ---\n",
            "\n",
            "RZ Rotation θ = 0.79 radians\n",
            "Measurement Counts: {'0 0': 508, '1 0': 516}\n",
            "        ┌───┐┌───┐┌───┐┌───┐┌─────────┐ ░ ┌─┐\n",
            "     q: ┤ X ├┤ H ├┤ S ├┤ T ├┤ Rz(π/4) ├─░─┤M├\n",
            "        └───┘└───┘└───┘└───┘└─────────┘ ░ └╥┘\n",
            "   c: 1/═══════════════════════════════════╬═\n",
            "                                           ║ \n",
            "meas: 1/═══════════════════════════════════╩═\n",
            "                                           0 \n",
            "\n",
            "RZ Rotation θ = 1.57 radians\n",
            "Measurement Counts: {'0 0': 513, '1 0': 511}\n",
            "        ┌───┐┌───┐┌───┐┌───┐┌─────────┐ ░ ┌─┐\n",
            "     q: ┤ X ├┤ H ├┤ S ├┤ T ├┤ Rz(π/2) ├─░─┤M├\n",
            "        └───┘└───┘└───┘└───┘└─────────┘ ░ └╥┘\n",
            "   c: 1/═══════════════════════════════════╬═\n",
            "                                           ║ \n",
            "meas: 1/═══════════════════════════════════╩═\n",
            "                                           0 \n",
            "\n",
            "RZ Rotation θ = 3.14 radians\n",
            "Measurement Counts: {'0 0': 495, '1 0': 529}\n",
            "        ┌───┐┌───┐┌───┐┌───┐┌───────┐ ░ ┌─┐\n",
            "     q: ┤ X ├┤ H ├┤ S ├┤ T ├┤ Rz(π) ├─░─┤M├\n",
            "        └───┘└───┘└───┘└───┘└───────┘ ░ └╥┘\n",
            "   c: 1/═════════════════════════════════╬═\n",
            "                                         ║ \n",
            "meas: 1/═════════════════════════════════╩═\n",
            "                                         0 \n",
            "\n",
            "Explanation:\n",
            "As θ increases (π/4 → π/2 → π), the qubit’s phase changes more.\n",
            "This alters interference, shifting probabilities of measuring |0⟩ or |1⟩.\n",
            "\n",
            "--- Task 3: Removing the Hadamard Gate ---\n",
            "Measurement Counts (Without H): {'1 0': 1024}\n",
            "        ┌───┐┌───┐┌───┐┌─────────┐ ░ ┌─┐\n",
            "     q: ┤ X ├┤ S ├┤ T ├┤ Rz(0.5) ├─░─┤M├\n",
            "        └───┘└───┘└───┘└─────────┘ ░ └╥┘\n",
            "   c: 1/══════════════════════════════╬═\n",
            "                                      ║ \n",
            "meas: 1/══════════════════════════════╩═\n",
            "                                      0 \n",
            "\n",
            "Explanation:\n",
            "Without the Hadamard gate, the qubit is no longer in superposition.\n",
            "So, measurement outcomes become more deterministic (closer to pure |0⟩ or |1⟩).\n"
          ]
        }
      ]
    }
  ]
}